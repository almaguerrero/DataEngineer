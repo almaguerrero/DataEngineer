{
  "nbformat": 4,
  "nbformat_minor": 0,
  "metadata": {
    "colab": {
      "name": "OneOptionComputationals.ipynb",
      "private_outputs": true,
      "provenance": [],
      "collapsed_sections": [],
      "authorship_tag": "ABX9TyOmp0R9QKR8RI2I69UOd6X3",
      "include_colab_link": true
    },
    "kernelspec": {
      "name": "python3",
      "display_name": "Python 3"
    }
  },
  "cells": [
    {
      "cell_type": "markdown",
      "metadata": {
        "id": "view-in-github",
        "colab_type": "text"
      },
      "source": [
        "<a href=\"https://colab.research.google.com/github/almaguerrero/DataEngineer/blob/master/OneOptionComputationals.ipynb\" target=\"_parent\"><img src=\"https://colab.research.google.com/assets/colab-badge.svg\" alt=\"Open In Colab\"/></a>"
      ]
    },
    {
      "cell_type": "markdown",
      "metadata": {
        "id": "FhSvSm8dhOO7"
      },
      "source": [
        "# Sección nueva"
      ]
    },
    {
      "cell_type": "markdown",
      "metadata": {
        "id": "eZEVPXi2glfx"
      },
      "source": [
        "#Imports "
      ]
    },
    {
      "cell_type": "code",
      "metadata": {
        "id": "2O07nGjqPMsG"
      },
      "source": [
        "import pandas as pd\r\n",
        "from IPython.display import display\r\n",
        "from ipywidgets import interactive\r\n",
        "from ipywidgets import Button\r\n",
        "from ipywidgets import widgets\r\n",
        "from IPython.display import display\r\n",
        "from traitlets import traitlets\r\n",
        "import plotly.express as px  # plotly\r\n",
        "import scipy.optimize as optimize\r\n",
        "import datetime\r\n",
        "from google.colab import drive\r\n",
        "drive.mount('/content/drive')"
      ],
      "execution_count": null,
      "outputs": []
    },
    {
      "cell_type": "markdown",
      "metadata": {
        "id": "jgKW1Y2nhXbY"
      },
      "source": [
        "#Funtions"
      ]
    },
    {
      "cell_type": "markdown",
      "metadata": {
        "id": "9VfQ4PODiXEe"
      },
      "source": [
        "## data"
      ]
    },
    {
      "cell_type": "code",
      "metadata": {
        "id": "LQ1z4XxpglA-"
      },
      "source": [
        "def view(x,u):\r\n",
        "    !pip install -q xlrd\r\n",
        "    import pandas as pd\r\n",
        "    data_1 = pd.read_excel('drive/MyDrive/Data/data_2.xlsx')\r\n",
        "    if x=='All': \r\n",
        "        #print('All')\r\n",
        "         print(data_1.head(4))\r\n",
        "         view.data = data_1\r\n",
        "         return view.data\r\n",
        "    else: \r\n",
        "        #print(x)\r\n",
        "        # print(u)\r\n",
        "        data = data_1.loc[data_1[u]==x]\r\n",
        "        print(data.head(3))\r\n",
        "        view.data = data\r\n",
        "        return view.data"
      ],
      "execution_count": null,
      "outputs": []
    },
    {
      "cell_type": "markdown",
      "metadata": {
        "id": "IXTtuAfWit3c"
      },
      "source": [
        "## tvpi irr squared"
      ]
    },
    {
      "cell_type": "code",
      "metadata": {
        "id": "Z2BbAt0Eiygd"
      },
      "source": [
        "def npv(cf, rate=0.1):\r\n",
        "    if len(cf) >= 2:\r\n",
        "        first_date = min([x[0] for x in cf])\r\n",
        "        dcf = [x[1] * (1 /\r\n",
        "                       ((1 + rate) ** ((x[0] - first_date).days / 365))) for x in cf]\r\n",
        "        return sum(dcf)\r\n",
        "    elif len(cf) == 1:\r\n",
        "        return cf[0][1]\r\n",
        "    else:\r\n",
        "        return 0\r\n",
        "\r\n",
        "\r\n",
        "def irr(cf):\r\n",
        "    f = lambda x: npv(cf, rate=x)\r\n",
        "    r = optimize.root(f, [0])\r\n",
        "    return r\r\n",
        "\r\n",
        "def main_irr(ex):\r\n",
        "    print('message recive')\r\n",
        "    data = ex.value \r\n",
        "    data['DTRAN'] = pd.to_datetime(data['DTRAN'])\r\n",
        "    df = data[['DTRAN', 'NTRAN']]\r\n",
        "    _list = df.values.tolist()\r\n",
        "    w = irr(_list)\r\n",
        "    print(w.x)\r\n",
        "    return w.x\r\n",
        "\r\n",
        "def tvpi_c(ex): # This function calculates the value of the TVPI\r\n",
        "    data = ex.value  #Data\r\n",
        "    import pandas as pd\r\n",
        "    pain = [] # Paidin\r\n",
        "    dist = [] # Distribution\r\n",
        "\r\n",
        "    #This \"for-cycle\" is used to divide and analyze positive and negative money flows and classify them into two lists\r\n",
        "    for index, row in data.iterrows():\r\n",
        "        cash = row['NTRAN']\r\n",
        "        if cash <= 0:\r\n",
        "            pain.append(cash)\r\n",
        "        if cash >= 0:\r\n",
        "            dist.append(cash)\r\n",
        "            \r\n",
        "    pain_df = pd.DataFrame(pain)*(-1)    \r\n",
        "    dist_df = pd.DataFrame(dist)\r\n",
        "    one = pain_df.sum()\r\n",
        "    two = dist_df.sum()\r\n",
        "    TVPI =two / one\r\n",
        "    print(TVPI) \r\n",
        "    return TVPI\r\n",
        "\r\n",
        "def dataF_c(ex): #This function returns the Paidin and Distribution values in a dataframe.\r\n",
        "    data = ex.value\r\n",
        "    data['DTRAN'] = pd.to_datetime(data['DTRAN'])  \r\n",
        "    df1 = data[['DTRAN', 'NTRAN']]\r\n",
        "    pain = []\r\n",
        "    dist = []\r\n",
        "    for index, row in df1.iterrows():\r\n",
        "        dinerita = row['NTRAN']\r\n",
        "        #print(dinerita)\r\n",
        "        if dinerita <= 0: ##neg\r\n",
        "             pain.append(dinerita)\r\n",
        "        else:\r\n",
        "             pain.append(0)\r\n",
        "        if dinerita > 0: ##neg\r\n",
        "            dist.append(dinerita)\r\n",
        "        else:\r\n",
        "            dist.append(0)\r\n",
        "            \r\n",
        "    pain_df = pd.DataFrame(pain,columns = ['Pain'])\r\n",
        "    dist_df = pd.DataFrame(dist,columns = ['Dist'])\r\n",
        "    result = pd.concat([pain_df, dist_df],axis=1)\r\n",
        "    print(result)\r\n",
        "    return result"
      ],
      "execution_count": null,
      "outputs": []
    },
    {
      "cell_type": "markdown",
      "metadata": {
        "id": "_tWiz4egjNP_"
      },
      "source": [
        "# data"
      ]
    },
    {
      "cell_type": "code",
      "metadata": {
        "id": "IIi6LVyWjPIO"
      },
      "source": [
        "!ls \"drive/MyDrive/Data\""
      ],
      "execution_count": null,
      "outputs": []
    },
    {
      "cell_type": "markdown",
      "metadata": {
        "id": "7Dy0Lfjxi759"
      },
      "source": [
        "# Choose "
      ]
    },
    {
      "cell_type": "code",
      "metadata": {
        "id": "fJu-nQOSi_Vm"
      },
      "source": [
        "w = widgets.Dropdown(\r\n",
        "    options=['DEAL', 'DEALTYPE', 'PROPTYPE_J','STATE'],\r\n",
        "    value='DEALTYPE',\r\n",
        "    description='Option:',\r\n",
        ")\r\n",
        "\r\n",
        "def on_change(change):\r\n",
        "    if change['type'] == 'change' and change['name'] == 'value':\r\n",
        "        print (\"changed to %s\" % change['new'])\r\n",
        "w.observe(on_change)\r\n",
        "display(w)"
      ],
      "execution_count": null,
      "outputs": []
    },
    {
      "cell_type": "code",
      "metadata": {
        "id": "8JgvB1vQjUck"
      },
      "source": [
        "w.value\r\n",
        "lst = ['LMSID_A','DEAL','DEALTYPE','PROPTYPE_J','STATE','NTRAN','DTRAN','IRR','TVPI'] \r\n",
        "df = pd.DataFrame(lst) "
      ],
      "execution_count": null,
      "outputs": []
    },
    {
      "cell_type": "code",
      "metadata": {
        "id": "HUp6leHsjWxo"
      },
      "source": [
        "data = pd.read_excel('drive/MyDrive/Data/data.xlsx')\r\n",
        "items = ['All']+sorted(data[w.value].unique().tolist())"
      ],
      "execution_count": null,
      "outputs": []
    },
    {
      "cell_type": "code",
      "metadata": {
        "id": "NLqxwbdejYeD"
      },
      "source": [
        "f = widgets.Select(options=items)\r\n",
        "second = w.value"
      ],
      "execution_count": null,
      "outputs": []
    },
    {
      "cell_type": "code",
      "metadata": {
        "id": "9j-pokJXjY2X"
      },
      "source": [
        "interactive(view, x=f,u=second)"
      ],
      "execution_count": null,
      "outputs": []
    },
    {
      "cell_type": "code",
      "metadata": {
        "id": "6UnUCPLakzlH"
      },
      "source": [
        "bloque = view.data"
      ],
      "execution_count": null,
      "outputs": []
    },
    {
      "cell_type": "markdown",
      "metadata": {
        "id": "_sQYMtj3jkmD"
      },
      "source": [
        "IRR"
      ]
    },
    {
      "cell_type": "code",
      "metadata": {
        "id": "dORKDt2hjmaE"
      },
      "source": [
        "from ipywidgets import Button\r\n",
        "from ipywidgets import Button\r\n",
        "from ipywidgets import widgets\r\n",
        "from IPython.display import display\r\n",
        "from traitlets import traitlets\r\n",
        "\r\n",
        "class LoadedButton(widgets.Button):\r\n",
        "    \"\"\"A button that can holds a value as a attribute.\"\"\"\r\n",
        "    def __init__(self, value=None, *args, **kwargs):\r\n",
        "        super(LoadedButton, self).__init__(*args, **kwargs)\r\n",
        "        # Create the value attribute.\r\n",
        "        self.add_traits(value=traitlets.Any(value))\r\n",
        "        \r\n",
        "lb = LoadedButton(description=\"IRR\", value=bloque)\r\n",
        "lb.on_click(main_irr)\r\n",
        "display(lb)\r\n",
        "\r\n",
        "lb_1 = LoadedButton(description=\"TVPI\", value=bloque)\r\n",
        "lb_1.on_click(tvpi_c)\r\n",
        "display(lb_1)\r\n",
        "\r\n",
        "lb_2 = LoadedButton(description=\"Paid-In & Distribution\", value=bloque)\r\n",
        "lb_2.on_click(dataF_c)\r\n",
        "display(lb_2)"
      ],
      "execution_count": null,
      "outputs": []
    }
  ]
}